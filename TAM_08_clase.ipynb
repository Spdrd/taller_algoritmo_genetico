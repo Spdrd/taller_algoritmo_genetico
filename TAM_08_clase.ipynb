{
  "cells": [
    {
      "cell_type": "code",
      "execution_count": 1,
      "metadata": {
        "id": "sJnCqMQd4ny8"
      },
      "outputs": [
        {
          "name": "stdout",
          "output_type": "stream",
          "text": [
            "Requirement already satisfied: deap in ./.venv/lib/python3.13/site-packages (1.4.3)\n",
            "Requirement already satisfied: numpy in ./.venv/lib/python3.13/site-packages (from deap) (2.3.4)\n"
          ]
        }
      ],
      "source": [
        "!pip install deap"
      ]
    },
    {
      "cell_type": "code",
      "execution_count": 2,
      "metadata": {
        "id": "f4r1UMtN5A8p"
      },
      "outputs": [],
      "source": [
        "import matplotlib.pyplot as plt\n",
        "import time\n",
        "import numpy as np\n",
        "from IPython import display\n",
        "import random\n",
        "from deap import base, creator, tools, algorithms"
      ]
    },
    {
      "cell_type": "code",
      "execution_count": 3,
      "metadata": {
        "id": "K_Upe3OX40hI"
      },
      "outputs": [],
      "source": [
        "def mostrar_laberinto():\n",
        "    ax = plt.gca()\n",
        "    ax.set_xticks(np.arange(0, 10, 1))\n",
        "    ax.set_yticks(np.arange(0, 10, 1))\n",
        "    #ax.set_xticklabels(np.arange(0, 10, 1));\n",
        "    #ax.set_yticklabels(np.arange(0, 10, 1));\n",
        "    ax.imshow(laberinto.T, cmap='binary')\n",
        "    plt.gca().invert_yaxis()\n",
        "    plt.plot(inicio[0], inicio[1], \"ro\", label=\"Inicio\")\n",
        "    plt.plot(salida[0], salida[1], \"go\", label=\"Salida\")\n",
        "    plt.grid(True, which='both')\n",
        "    plt.legend()\n",
        "    plt.show()\n",
        "\n",
        "\n",
        "def mover(pos, movimiento):\n",
        "    # Realiza el movimiento (x, y)\n",
        "    nueva_pos = (pos[0] + movimiento[0], pos[1] + movimiento[1])\n",
        "\n",
        "    # Verificar si está dentro de los límites y no es una pared\n",
        "    if 0 <= nueva_pos[0] < laberinto.shape[0] and 0 <= nueva_pos[1] < laberinto.shape[1]:\n",
        "        if laberinto[nueva_pos] == 0:  # No es una pared\n",
        "            return nueva_pos\n",
        "    return pos  # Si no es un movimiento válido, quedarse en el mismo lugar\n",
        "\n",
        "# Definir la función de aptitud\n",
        "def evaluar_individuo(individual):\n",
        "    pos = inicio\n",
        "    for movimiento in individual:\n",
        "        pos = mover(pos, MOVIMIENTOS[movimiento])\n",
        "\n",
        "    # Distancia a la salida\n",
        "    dist_salida = np.sqrt((pos[0] - salida[0])**2 + (pos[1] - salida[1])**2)\n",
        "    return dist_salida,  # Cuanto más cerca de 0, mejor\n",
        "\n",
        "def mostrar_ruta_pasos(individuo, s=0.01,laberinto=None, inicio=None, salida=None, grid=False):\n",
        "    generacion = individuo if isinstance(individuo[0], list) else [individuo]\n",
        "\n",
        "    NOMBRE_MOVIMIENTOS = ['arriba', 'abajo', 'izquierda', 'derecha']\n",
        "    #pos = inicio\n",
        "    #camino = [pos]\n",
        "    #nombre_camino = ['nada']\n",
        "    #numero_movimiento = ['-']\n",
        "\n",
        "    # Clear the previous plot\n",
        "    plt.clf()\n",
        "\n",
        "\n",
        "    fig, ax = plt.subplots()\n",
        "    #ax.invert_yaxis()\n",
        "    for ind in generacion:\n",
        "        pos = inicio\n",
        "        camino = [pos]\n",
        "        for i, movimiento in enumerate(ind):\n",
        "            pos = mover(pos, MOVIMIENTOS[movimiento])\n",
        "\n",
        "            camino.append(pos)\n",
        "            #nombre_camino.append(NOMBRE_MOVIMIENTOS[movimiento])\n",
        "            #numero_movimiento.append(movimiento)\n",
        "\n",
        "            # Convert to NumPy array for plotting\n",
        "            camino_np = np.array(camino)\n",
        "\n",
        "\n",
        "            # Plot the path up to the current step\n",
        "            ax.clear()\n",
        "            if grid:\n",
        "              ax.set_xticks(np.arange(0, laberinto.shape[1], 1));\n",
        "              ax.set_yticks(np.arange(0, laberinto.shape[1], 1));\n",
        "              #ax.set_xticklabels(np.arange(0, 10, 1));\n",
        "              #ax.set_yticklabels(np.arange(0, 10, 1));\n",
        "              ax.grid(grid, which='both')\n",
        "            ax.set_ylim(-1, laberinto.shape[1])\n",
        "            ax.set_xlim(-1, laberinto.shape[0])\n",
        "            ax.imshow(laberinto.T, cmap='binary')\n",
        "            ax.plot(camino_np[:, 0], camino_np[:, 1], \"r-\")\n",
        "            ax.plot(-1, -1, \"ro\", label=f\"{i+1}\")\n",
        "            ax.plot(inicio[0], inicio[1], \"bo\", label=\"Inicio\")  # Start point\n",
        "            ax.plot(salida[0], salida[1], \"go\", label=\"Salida\")   # End point\n",
        "            #ax.plot(pos_anterior[0], pos_anterior[1], \"bo\", label=f\"pos-ant {pos_anterior}\", alpha=0.6)   # End point\n",
        "            ax.plot(pos[0], pos[1], \"bx\", label=f\"pos {pos}\")   # End point\n",
        "            plt.xlabel(\"Eje X\")\n",
        "            plt.ylabel(\"Eje Y\")\n",
        "\n",
        "            ax.legend()\n",
        "\n",
        "            # Update the display\n",
        "\n",
        "            display.clear_output(wait=True)\n",
        "            display.display(fig)\n",
        "\n",
        "            time.sleep(s)\n",
        "    plt.close(fig)  # Close the figure to prevent further updates\n",
        "    #plt.show()  # Keep the final plot displayed"
      ]
    },
    {
      "cell_type": "code",
      "execution_count": 4,
      "metadata": {
        "id": "yUHFIgHc4rH6"
      },
      "outputs": [
        {
          "data": {
            "image/png": "[encoded data removed]",
            "text/plain": [
              "<Figure size 640x480 with 1 Axes>"
            ]
          },
          "metadata": {},
          "output_type": "display_data"
        }
      ],
      "source": [
        "\n",
        "\n",
        "# Representamos el laberinto como una matriz 10x10\n",
        "laberinto = np.zeros((10, 10))\n",
        "# Poner paredes (1 representa una pared)\n",
        "laberinto[0:9, 5] = 1  # Pared vertical\n",
        "laberinto[5, 1:5] = 1  # Pared horizontal\n",
        "#laberinto = laberinto.T\n",
        "\n",
        "# Definir la posición inicial y final\n",
        "inicio = (0, 0)\n",
        "salida = (9, 9)\n",
        "\n",
        "# Mostrar el laberinto\n",
        "mostrar_laberinto()"
      ]
    },
    {
      "cell_type": "code",
      "execution_count": 5,
      "metadata": {
        "id": "6pMM-AWi54Wy"
      },
      "outputs": [],
      "source": [
        "# Movimientos posibles\n",
        "#              (arriba, abajo, izquierda, derecha)\n",
        "MOVIMIENTOS = [(0, 1), (0, -1), (-1, 0), (1, 0)]\n",
        "\n",
        "# Crear la estructura del algoritmo genético\n",
        "creator.create(\"FitnessMin\", base.Fitness, weights=(-1.0,))  # Minimizar la distancia\n",
        "creator.create(\"Individual\", list, fitness=creator.FitnessMin)\n",
        "\n",
        "toolbox = base.Toolbox()\n",
        "toolbox.register(\"attr_move\", random.randint, 0, len(MOVIMIENTOS)-1)\n",
        "toolbox.register(\"individual\", tools.initRepeat, creator.Individual, toolbox.attr_move, n=50)  # 50 movimientos\n",
        "toolbox.register(\"population\", tools.initRepeat, list, toolbox.individual)\n",
        "\n",
        "toolbox.register(\"mate\", tools.cxTwoPoint)\n",
        "toolbox.register(\"mutate\", tools.mutShuffleIndexes, indpb=0.1)\n",
        "toolbox.register(\"select\", tools.selTournament, tournsize=3)\n",
        "toolbox.register(\"evaluate\", evaluar_individuo)\n"
      ]
    },
    {
      "cell_type": "code",
      "execution_count": 6,
      "metadata": {
        "id": "Gh6u7a-U6R3n"
      },
      "outputs": [],
      "source": [
        "# Crear la población inicial\n",
        "pop = toolbox.population(n=10)  # 100 individuos\n",
        "\n",
        "# Ejecutar el algoritmo genético\n",
        "resultados, log = algorithms.eaSimple(pop, toolbox, cxpb=0.5, mutpb=0.2, ngen=10, verbose=False)"
      ]
    },
    {
      "cell_type": "code",
      "execution_count": 7,
      "metadata": {
        "id": "_vkfoCGF5s-z"
      },
      "outputs": [
        {
          "data": {
            "image/png": "[encoded data removed]",
            "text/plain": [
              "<Figure size 640x480 with 1 Axes>"
            ]
          },
          "metadata": {},
          "output_type": "display_data"
        },
        {
          "data": {
            "text/plain": [
              "<Figure size 640x480 with 0 Axes>"
            ]
          },
          "metadata": {},
          "output_type": "display_data"
        }
      ],
      "source": [
        "mostrar_ruta_pasos(resultados[0], laberinto=laberinto, inicio=inicio, salida=salida, grid=True)"
      ]
    },
    {
      "cell_type": "code",
      "execution_count": 8,
      "metadata": {
        "id": "5pzar7v_5zUV"
      },
      "outputs": [
        {
          "data": {
            "image/png": "[encoded data removed]",
            "text/plain": [
              "<Figure size 640x480 with 1 Axes>"
            ]
          },
          "metadata": {},
          "output_type": "display_data"
        },
        {
          "data": {
            "text/plain": [
              "<Figure size 640x480 with 0 Axes>"
            ]
          },
          "metadata": {},
          "output_type": "display_data"
        }
      ],
      "source": [
        "from deap import tools\n",
        "# Variables para el registro de la evolución\n",
        "stats = tools.Statistics(key=lambda ind: ind.fitness.values)\n",
        "stats.register(\"min\", np.min)\n",
        "stats.register(\"avg\", np.mean)\n",
        "\n",
        "logbook = tools.Logbook()\n",
        "\n",
        "# Crear la población inicial\n",
        "pop = toolbox.population(n=100)  # 100 individuos\n",
        "\n",
        "# Ejecutar el algoritmo genético\n",
        "resultados, logbook = algorithms.eaSimple(pop, toolbox, cxpb=0.5, mutpb=0.2, ngen=50,stats=stats, verbose=False)\n",
        "\n",
        "# Encontrar el mejor individuo\n",
        "mejor_individuo = tools.selBest(pop, 1)#[0]\n",
        "mostrar_ruta_pasos(mejor_individuo, laberinto=laberinto, inicio=inicio, salida=salida, grid=True)"
      ]
    },
    {
      "cell_type": "code",
      "execution_count": 9,
      "metadata": {
        "id": "d8ScTvRx69k8"
      },
      "outputs": [
        {
          "data": {
            "image/png": "[encoded data removed]",
            "text/plain": [
              "<Figure size 640x480 with 1 Axes>"
            ]
          },
          "metadata": {},
          "output_type": "display_data"
        }
      ],
      "source": [
        "# Extraer las estadísticas de cada generación\n",
        "generaciones = logbook.select(\"gen\")\n",
        "minimos = logbook.select(\"min\")\n",
        "promedios = logbook.select(\"avg\")\n",
        "\n",
        "# Graficar la evolución\n",
        "import matplotlib.pyplot as plt\n",
        "\n",
        "plt.plot(generaciones, minimos, label=\"Mejor aptitud\")\n",
        "plt.plot(generaciones, promedios, label=\"Aptitud promedio\", linestyle=\"--\")\n",
        "plt.xlabel(\"Generaciones\")\n",
        "plt.ylabel(\"Aptitud\")\n",
        "plt.title(\"Evolución del Algoritmo Genético\")\n",
        "plt.legend()\n",
        "plt.show()"
      ]
    },
    {
      "cell_type": "markdown",
      "metadata": {
        "id": "X09IegvfN0sL"
      },
      "source": [
        "# Taller"
      ]
    },
    {
      "cell_type": "code",
      "execution_count": 10,
      "metadata": {
        "id": "CRkBnM3S7Kze"
      },
      "outputs": [
        {
          "name": "stderr",
          "output_type": "stream",
          "text": [
            "/Users/marianadiazpuentes/Documents/GitHub/taller_algoritmo_genetico/.venv/lib/python3.13/site-packages/deap/creator.py:185: RuntimeWarning: A class named 'FitnessMin' has already been created and it will be overwritten. Consider deleting previous creation of that class or rename it.\n",
            "  warnings.warn(\"A class named '{0}' has already been created and it \"\n",
            "/Users/marianadiazpuentes/Documents/GitHub/taller_algoritmo_genetico/.venv/lib/python3.13/site-packages/deap/creator.py:185: RuntimeWarning: A class named 'Individual' has already been created and it will be overwritten. Consider deleting previous creation of that class or rename it.\n",
            "  warnings.warn(\"A class named '{0}' has already been created and it \"\n"
          ]
        }
      ],
      "source": [
        "# Movimientos posibles\n",
        "#              (arriba, abajo, izquierda, derecha, nada)\n",
        "MOVIMIENTOS = [(0, 1), (0, -1), (-1, 0), (1, 0), (0, 0)]\n",
        "\n",
        "# Crear la estructura del algoritmo genético\n",
        "creator.create(\"FitnessMin\", base.Fitness, weights=(-1.0,))  # Minimizar la distancia\n",
        "creator.create(\"Individual\", list, fitness=creator.FitnessMin)\n",
        "\n",
        "toolbox = base.Toolbox()\n",
        "toolbox.register(\"attr_move\", random.randint, 0, len(MOVIMIENTOS)-1)\n",
        "toolbox.register(\"individual\", tools.initRepeat, creator.Individual, toolbox.attr_move, n=1000)  # 50 movimientos\n",
        "toolbox.register(\"population\", tools.initRepeat, list, toolbox.individual)\n",
        "\n",
        "toolbox.register(\"mate\", tools.cxTwoPoint)\n",
        "toolbox.register(\"mutate\", tools.mutShuffleIndexes, indpb=0.1)\n",
        "toolbox.register(\"select\", tools.selTournament, tournsize=3)\n",
        "toolbox.register(\"evaluate\", evaluar_individuo)"
      ]
    },
    {
      "cell_type": "code",
      "execution_count": 11,
      "metadata": {
        "id": "uqaH93qBOdfE"
      },
      "outputs": [
        {
          "name": "stderr",
          "output_type": "stream",
          "text": [
            "Process SpawnPoolWorker-1:\n",
            "Process SpawnPoolWorker-3:\n",
            "Process SpawnPoolWorker-2:\n",
            "Traceback (most recent call last):\n",
            "Traceback (most recent call last):\n",
            "Traceback (most recent call last):\n",
            "Process SpawnPoolWorker-4:\n",
            "  File \"/Library/Frameworks/Python.framework/Versions/3.13/lib/python3.13/multiprocessing/process.py\", line 313, in _bootstrap\n",
            "    self.run()\n",
            "    ~~~~~~~~^^\n",
            "  File \"/Library/Frameworks/Python.framework/Versions/3.13/lib/python3.13/multiprocessing/process.py\", line 108, in run\n",
            "    self._target(*self._args, **self._kwargs)\n",
            "    ~~~~~~~~~~~~^^^^^^^^^^^^^^^^^^^^^^^^^^^^^\n",
            "  File \"/Library/Frameworks/Python.framework/Versions/3.13/lib/python3.13/multiprocessing/pool.py\", line 114, in worker\n",
            "    task = get()\n",
            "  File \"/Library/Frameworks/Python.framework/Versions/3.13/lib/python3.13/multiprocessing/queues.py\", line 387, in get\n",
            "    return _ForkingPickler.loads(res)\n",
            "           ~~~~~~~~~~~~~~~~~~~~~^^^^^\n",
            "AttributeError: Can't get attribute 'evaluar_individuo' on <module '__main__' (<class '_frozen_importlib.BuiltinImporter'>)>\n",
            "Process SpawnPoolWorker-5:\n",
            "Traceback (most recent call last):\n",
            "Traceback (most recent call last):\n",
            "  File \"/Library/Frameworks/Python.framework/Versions/3.13/lib/python3.13/multiprocessing/process.py\", line 313, in _bootstrap\n",
            "    self.run()\n",
            "    ~~~~~~~~^^\n",
            "  File \"/Library/Frameworks/Python.framework/Versions/3.13/lib/python3.13/multiprocessing/process.py\", line 108, in run\n",
            "    self._target(*self._args, **self._kwargs)\n",
            "    ~~~~~~~~~~~~^^^^^^^^^^^^^^^^^^^^^^^^^^^^^\n",
            "  File \"/Library/Frameworks/Python.framework/Versions/3.13/lib/python3.13/multiprocessing/pool.py\", line 114, in worker\n",
            "    task = get()\n",
            "  File \"/Library/Frameworks/Python.framework/Versions/3.13/lib/python3.13/multiprocessing/queues.py\", line 387, in get\n",
            "    return _ForkingPickler.loads(res)\n",
            "           ~~~~~~~~~~~~~~~~~~~~~^^^^^\n",
            "AttributeError: Can't get attribute 'evaluar_individuo' on <module '__main__' (<class '_frozen_importlib.BuiltinImporter'>)>\n",
            "  File \"/Library/Frameworks/Python.framework/Versions/3.13/lib/python3.13/multiprocessing/process.py\", line 313, in _bootstrap\n",
            "    self.run()\n",
            "    ~~~~~~~~^^\n",
            "  File \"/Library/Frameworks/Python.framework/Versions/3.13/lib/python3.13/multiprocessing/process.py\", line 108, in run\n",
            "    self._target(*self._args, **self._kwargs)\n",
            "    ~~~~~~~~~~~~^^^^^^^^^^^^^^^^^^^^^^^^^^^^^\n",
            "  File \"/Library/Frameworks/Python.framework/Versions/3.13/lib/python3.13/multiprocessing/pool.py\", line 114, in worker\n",
            "    task = get()\n",
            "  File \"/Library/Frameworks/Python.framework/Versions/3.13/lib/python3.13/multiprocessing/queues.py\", line 387, in get\n",
            "    return _ForkingPickler.loads(res)\n",
            "           ~~~~~~~~~~~~~~~~~~~~~^^^^^\n",
            "AttributeError: Can't get attribute 'evaluar_individuo' on <module '__main__' (<class '_frozen_importlib.BuiltinImporter'>)>\n",
            "  File \"/Library/Frameworks/Python.framework/Versions/3.13/lib/python3.13/multiprocessing/process.py\", line 313, in _bootstrap\n",
            "    self.run()\n",
            "    ~~~~~~~~^^\n",
            "  File \"/Library/Frameworks/Python.framework/Versions/3.13/lib/python3.13/multiprocessing/process.py\", line 108, in run\n",
            "    self._target(*self._args, **self._kwargs)\n",
            "    ~~~~~~~~~~~~^^^^^^^^^^^^^^^^^^^^^^^^^^^^^\n",
            "  File \"/Library/Frameworks/Python.framework/Versions/3.13/lib/python3.13/multiprocessing/pool.py\", line 114, in worker\n",
            "    task = get()\n",
            "  File \"/Library/Frameworks/Python.framework/Versions/3.13/lib/python3.13/multiprocessing/queues.py\", line 387, in get\n",
            "    return _ForkingPickler.loads(res)\n",
            "           ~~~~~~~~~~~~~~~~~~~~~^^^^^\n",
            "AttributeError: Can't get attribute 'evaluar_individuo' on <module '__main__' (<class '_frozen_importlib.BuiltinImporter'>)>\n",
            "  File \"/Library/Frameworks/Python.framework/Versions/3.13/lib/python3.13/multiprocessing/process.py\", line 313, in _bootstrap\n",
            "    self.run()\n",
            "    ~~~~~~~~^^\n",
            "  File \"/Library/Frameworks/Python.framework/Versions/3.13/lib/python3.13/multiprocessing/process.py\", line 108, in run\n",
            "    self._target(*self._args, **self._kwargs)\n",
            "    ~~~~~~~~~~~~^^^^^^^^^^^^^^^^^^^^^^^^^^^^^\n",
            "  File \"/Library/Frameworks/Python.framework/Versions/3.13/lib/python3.13/multiprocessing/pool.py\", line 114, in worker\n",
            "    task = get()\n",
            "  File \"/Library/Frameworks/Python.framework/Versions/3.13/lib/python3.13/multiprocessing/queues.py\", line 387, in get\n",
            "    return _ForkingPickler.loads(res)\n",
            "           ~~~~~~~~~~~~~~~~~~~~~^^^^^\n",
            "AttributeError: Can't get attribute 'evaluar_individuo' on <module '__main__' (<class '_frozen_importlib.BuiltinImporter'>)>\n",
            "Process SpawnPoolWorker-6:\n",
            "Traceback (most recent call last):\n",
            "  File \"/Library/Frameworks/Python.framework/Versions/3.13/lib/python3.13/multiprocessing/process.py\", line 313, in _bootstrap\n",
            "    self.run()\n",
            "    ~~~~~~~~^^\n",
            "  File \"/Library/Frameworks/Python.framework/Versions/3.13/lib/python3.13/multiprocessing/process.py\", line 108, in run\n",
            "    self._target(*self._args, **self._kwargs)\n",
            "    ~~~~~~~~~~~~^^^^^^^^^^^^^^^^^^^^^^^^^^^^^\n",
            "  File \"/Library/Frameworks/Python.framework/Versions/3.13/lib/python3.13/multiprocessing/pool.py\", line 114, in worker\n",
            "    task = get()\n",
            "  File \"/Library/Frameworks/Python.framework/Versions/3.13/lib/python3.13/multiprocessing/queues.py\", line 387, in get\n",
            "    return _ForkingPickler.loads(res)\n",
            "           ~~~~~~~~~~~~~~~~~~~~~^^^^^\n",
            "AttributeError: Can't get attribute 'evaluar_individuo' on <module '__main__' (<class '_frozen_importlib.BuiltinImporter'>)>\n",
            "Process SpawnPoolWorker-8:\n",
            "Process SpawnPoolWorker-7:\n",
            "Traceback (most recent call last):\n",
            "  File \"/Library/Frameworks/Python.framework/Versions/3.13/lib/python3.13/multiprocessing/process.py\", line 313, in _bootstrap\n",
            "    self.run()\n",
            "    ~~~~~~~~^^\n",
            "  File \"/Library/Frameworks/Python.framework/Versions/3.13/lib/python3.13/multiprocessing/process.py\", line 108, in run\n",
            "    self._target(*self._args, **self._kwargs)\n",
            "    ~~~~~~~~~~~~^^^^^^^^^^^^^^^^^^^^^^^^^^^^^\n",
            "  File \"/Library/Frameworks/Python.framework/Versions/3.13/lib/python3.13/multiprocessing/pool.py\", line 114, in worker\n",
            "    task = get()\n",
            "  File \"/Library/Frameworks/Python.framework/Versions/3.13/lib/python3.13/multiprocessing/queues.py\", line 387, in get\n",
            "    return _ForkingPickler.loads(res)\n",
            "           ~~~~~~~~~~~~~~~~~~~~~^^^^^\n",
            "AttributeError: Can't get attribute 'evaluar_individuo' on <module '__main__' (<class '_frozen_importlib.BuiltinImporter'>)>\n",
            "Traceback (most recent call last):\n",
            "  File \"/Library/Frameworks/Python.framework/Versions/3.13/lib/python3.13/multiprocessing/process.py\", line 313, in _bootstrap\n",
            "    self.run()\n",
            "    ~~~~~~~~^^\n",
            "  File \"/Library/Frameworks/Python.framework/Versions/3.13/lib/python3.13/multiprocessing/process.py\", line 108, in run\n",
            "    self._target(*self._args, **self._kwargs)\n",
            "    ~~~~~~~~~~~~^^^^^^^^^^^^^^^^^^^^^^^^^^^^^\n",
            "  File \"/Library/Frameworks/Python.framework/Versions/3.13/lib/python3.13/multiprocessing/pool.py\", line 114, in worker\n",
            "    task = get()\n",
            "  File \"/Library/Frameworks/Python.framework/Versions/3.13/lib/python3.13/multiprocessing/queues.py\", line 387, in get\n",
            "    return _ForkingPickler.loads(res)\n",
            "           ~~~~~~~~~~~~~~~~~~~~~^^^^^\n",
            "AttributeError: Can't get attribute 'evaluar_individuo' on <module '__main__' (<class '_frozen_importlib.BuiltinImporter'>)>\n",
            "Process SpawnPoolWorker-10:\n",
            "Traceback (most recent call last):\n",
            "  File \"/Library/Frameworks/Python.framework/Versions/3.13/lib/python3.13/multiprocessing/process.py\", line 313, in _bootstrap\n",
            "    self.run()\n",
            "    ~~~~~~~~^^\n",
            "  File \"/Library/Frameworks/Python.framework/Versions/3.13/lib/python3.13/multiprocessing/process.py\", line 108, in run\n",
            "    self._target(*self._args, **self._kwargs)\n",
            "    ~~~~~~~~~~~~^^^^^^^^^^^^^^^^^^^^^^^^^^^^^\n",
            "  File \"/Library/Frameworks/Python.framework/Versions/3.13/lib/python3.13/multiprocessing/pool.py\", line 114, in worker\n",
            "    task = get()\n",
            "  File \"/Library/Frameworks/Python.framework/Versions/3.13/lib/python3.13/multiprocessing/queues.py\", line 387, in get\n",
            "    return _ForkingPickler.loads(res)\n",
            "           ~~~~~~~~~~~~~~~~~~~~~^^^^^\n",
            "AttributeError: Can't get attribute 'evaluar_individuo' on <module '__main__' (<class '_frozen_importlib.BuiltinImporter'>)>\n",
            "Process SpawnPoolWorker-9:\n",
            "Traceback (most recent call last):\n",
            "  File \"/Library/Frameworks/Python.framework/Versions/3.13/lib/python3.13/multiprocessing/process.py\", line 313, in _bootstrap\n",
            "    self.run()\n",
            "    ~~~~~~~~^^\n",
            "  File \"/Library/Frameworks/Python.framework/Versions/3.13/lib/python3.13/multiprocessing/process.py\", line 108, in run\n",
            "    self._target(*self._args, **self._kwargs)\n",
            "    ~~~~~~~~~~~~^^^^^^^^^^^^^^^^^^^^^^^^^^^^^\n",
            "  File \"/Library/Frameworks/Python.framework/Versions/3.13/lib/python3.13/multiprocessing/pool.py\", line 114, in worker\n",
            "    task = get()\n",
            "  File \"/Library/Frameworks/Python.framework/Versions/3.13/lib/python3.13/multiprocessing/queues.py\", line 387, in get\n",
            "    return _ForkingPickler.loads(res)\n",
            "           ~~~~~~~~~~~~~~~~~~~~~^^^^^\n",
            "AttributeError: Can't get attribute 'evaluar_individuo' on <module '__main__' (<class '_frozen_importlib.BuiltinImporter'>)>\n",
            "Process SpawnPoolWorker-17:\n",
            "Process SpawnPoolWorker-16:\n",
            "Process SpawnPoolWorker-12:\n",
            "Process SpawnPoolWorker-11:\n",
            "Process SpawnPoolWorker-18:\n",
            "Process SpawnPoolWorker-14:\n",
            "Process SpawnPoolWorker-13:\n",
            "Process SpawnPoolWorker-15:\n",
            "Traceback (most recent call last):\n",
            "Traceback (most recent call last):\n",
            "Traceback (most recent call last):\n",
            "Traceback (most recent call last):\n",
            "Traceback (most recent call last):\n",
            "Traceback (most recent call last):\n",
            "Traceback (most recent call last):\n",
            "Traceback (most recent call last):\n",
            "  File \"/Library/Frameworks/Python.framework/Versions/3.13/lib/python3.13/multiprocessing/process.py\", line 313, in _bootstrap\n",
            "    self.run()\n",
            "    ~~~~~~~~^^\n",
            "  File \"/Library/Frameworks/Python.framework/Versions/3.13/lib/python3.13/multiprocessing/process.py\", line 108, in run\n",
            "    self._target(*self._args, **self._kwargs)\n",
            "    ~~~~~~~~~~~~^^^^^^^^^^^^^^^^^^^^^^^^^^^^^\n",
            "  File \"/Library/Frameworks/Python.framework/Versions/3.13/lib/python3.13/multiprocessing/pool.py\", line 114, in worker\n",
            "    task = get()\n",
            "  File \"/Library/Frameworks/Python.framework/Versions/3.13/lib/python3.13/multiprocessing/queues.py\", line 384, in get\n",
            "    with self._rlock:\n",
            "         ^^^^^^^^^^^\n",
            "  File \"/Library/Frameworks/Python.framework/Versions/3.13/lib/python3.13/multiprocessing/synchronize.py\", line 95, in __enter__\n",
            "    return self._semlock.__enter__()\n",
            "           ~~~~~~~~~~~~~~~~~~~~~~~^^\n",
            "KeyboardInterrupt\n",
            "  File \"/Library/Frameworks/Python.framework/Versions/3.13/lib/python3.13/multiprocessing/process.py\", line 313, in _bootstrap\n",
            "    self.run()\n",
            "    ~~~~~~~~^^\n",
            "  File \"/Library/Frameworks/Python.framework/Versions/3.13/lib/python3.13/multiprocessing/process.py\", line 108, in run\n",
            "    self._target(*self._args, **self._kwargs)\n",
            "    ~~~~~~~~~~~~^^^^^^^^^^^^^^^^^^^^^^^^^^^^^\n",
            "  File \"/Library/Frameworks/Python.framework/Versions/3.13/lib/python3.13/multiprocessing/pool.py\", line 114, in worker\n",
            "    task = get()\n",
            "  File \"/Library/Frameworks/Python.framework/Versions/3.13/lib/python3.13/multiprocessing/queues.py\", line 384, in get\n",
            "    with self._rlock:\n",
            "         ^^^^^^^^^^^\n",
            "  File \"/Library/Frameworks/Python.framework/Versions/3.13/lib/python3.13/multiprocessing/synchronize.py\", line 95, in __enter__\n",
            "    return self._semlock.__enter__()\n",
            "           ~~~~~~~~~~~~~~~~~~~~~~~^^\n",
            "KeyboardInterrupt\n",
            "  File \"/Library/Frameworks/Python.framework/Versions/3.13/lib/python3.13/multiprocessing/process.py\", line 313, in _bootstrap\n",
            "    self.run()\n",
            "    ~~~~~~~~^^\n",
            "  File \"/Library/Frameworks/Python.framework/Versions/3.13/lib/python3.13/multiprocessing/process.py\", line 108, in run\n",
            "    self._target(*self._args, **self._kwargs)\n",
            "    ~~~~~~~~~~~~^^^^^^^^^^^^^^^^^^^^^^^^^^^^^\n",
            "  File \"/Library/Frameworks/Python.framework/Versions/3.13/lib/python3.13/multiprocessing/pool.py\", line 114, in worker\n",
            "    task = get()\n",
            "  File \"/Library/Frameworks/Python.framework/Versions/3.13/lib/python3.13/multiprocessing/queues.py\", line 384, in get\n",
            "    with self._rlock:\n",
            "         ^^^^^^^^^^^\n",
            "  File \"/Library/Frameworks/Python.framework/Versions/3.13/lib/python3.13/multiprocessing/synchronize.py\", line 95, in __enter__\n",
            "    return self._semlock.__enter__()\n",
            "           ~~~~~~~~~~~~~~~~~~~~~~~^^\n",
            "KeyboardInterrupt\n",
            "  File \"/Library/Frameworks/Python.framework/Versions/3.13/lib/python3.13/multiprocessing/process.py\", line 313, in _bootstrap\n",
            "    self.run()\n",
            "    ~~~~~~~~^^\n",
            "  File \"/Library/Frameworks/Python.framework/Versions/3.13/lib/python3.13/multiprocessing/process.py\", line 108, in run\n",
            "    self._target(*self._args, **self._kwargs)\n",
            "    ~~~~~~~~~~~~^^^^^^^^^^^^^^^^^^^^^^^^^^^^^\n",
            "  File \"/Library/Frameworks/Python.framework/Versions/3.13/lib/python3.13/multiprocessing/pool.py\", line 114, in worker\n",
            "    task = get()\n",
            "  File \"/Library/Frameworks/Python.framework/Versions/3.13/lib/python3.13/multiprocessing/queues.py\", line 384, in get\n",
            "    with self._rlock:\n",
            "         ^^^^^^^^^^^\n",
            "  File \"/Library/Frameworks/Python.framework/Versions/3.13/lib/python3.13/multiprocessing/synchronize.py\", line 95, in __enter__\n",
            "    return self._semlock.__enter__()\n",
            "           ~~~~~~~~~~~~~~~~~~~~~~~^^\n",
            "KeyboardInterrupt\n",
            "  File \"/Library/Frameworks/Python.framework/Versions/3.13/lib/python3.13/multiprocessing/process.py\", line 313, in _bootstrap\n",
            "    self.run()\n",
            "    ~~~~~~~~^^\n",
            "  File \"/Library/Frameworks/Python.framework/Versions/3.13/lib/python3.13/multiprocessing/process.py\", line 108, in run\n",
            "    self._target(*self._args, **self._kwargs)\n",
            "    ~~~~~~~~~~~~^^^^^^^^^^^^^^^^^^^^^^^^^^^^^\n",
            "  File \"/Library/Frameworks/Python.framework/Versions/3.13/lib/python3.13/multiprocessing/pool.py\", line 114, in worker\n",
            "    task = get()\n",
            "  File \"/Library/Frameworks/Python.framework/Versions/3.13/lib/python3.13/multiprocessing/queues.py\", line 384, in get\n",
            "    with self._rlock:\n",
            "         ^^^^^^^^^^^\n",
            "  File \"/Library/Frameworks/Python.framework/Versions/3.13/lib/python3.13/multiprocessing/synchronize.py\", line 95, in __enter__\n",
            "    return self._semlock.__enter__()\n",
            "           ~~~~~~~~~~~~~~~~~~~~~~~^^\n",
            "  File \"/Library/Frameworks/Python.framework/Versions/3.13/lib/python3.13/multiprocessing/process.py\", line 313, in _bootstrap\n",
            "    self.run()\n",
            "    ~~~~~~~~^^\n",
            "  File \"/Library/Frameworks/Python.framework/Versions/3.13/lib/python3.13/multiprocessing/process.py\", line 108, in run\n",
            "    self._target(*self._args, **self._kwargs)\n",
            "    ~~~~~~~~~~~~^^^^^^^^^^^^^^^^^^^^^^^^^^^^^\n",
            "  File \"/Library/Frameworks/Python.framework/Versions/3.13/lib/python3.13/multiprocessing/pool.py\", line 114, in worker\n",
            "    task = get()\n",
            "  File \"/Library/Frameworks/Python.framework/Versions/3.13/lib/python3.13/multiprocessing/queues.py\", line 384, in get\n",
            "    with self._rlock:\n",
            "         ^^^^^^^^^^^\n",
            "  File \"/Library/Frameworks/Python.framework/Versions/3.13/lib/python3.13/multiprocessing/synchronize.py\", line 95, in __enter__\n",
            "    return self._semlock.__enter__()\n",
            "           ~~~~~~~~~~~~~~~~~~~~~~~^^\n",
            "KeyboardInterrupt\n",
            "KeyboardInterrupt\n",
            "  File \"/Library/Frameworks/Python.framework/Versions/3.13/lib/python3.13/multiprocessing/process.py\", line 313, in _bootstrap\n",
            "    self.run()\n",
            "    ~~~~~~~~^^\n",
            "  File \"/Library/Frameworks/Python.framework/Versions/3.13/lib/python3.13/multiprocessing/process.py\", line 108, in run\n",
            "    self._target(*self._args, **self._kwargs)\n",
            "    ~~~~~~~~~~~~^^^^^^^^^^^^^^^^^^^^^^^^^^^^^\n",
            "  File \"/Library/Frameworks/Python.framework/Versions/3.13/lib/python3.13/multiprocessing/pool.py\", line 114, in worker\n",
            "    task = get()\n",
            "  File \"/Library/Frameworks/Python.framework/Versions/3.13/lib/python3.13/multiprocessing/queues.py\", line 385, in get\n",
            "    res = self._reader.recv_bytes()\n",
            "  File \"/Library/Frameworks/Python.framework/Versions/3.13/lib/python3.13/multiprocessing/connection.py\", line 216, in recv_bytes\n",
            "    buf = self._recv_bytes(maxlength)\n",
            "  File \"/Library/Frameworks/Python.framework/Versions/3.13/lib/python3.13/multiprocessing/connection.py\", line 430, in _recv_bytes\n",
            "    buf = self._recv(4)\n",
            "  File \"/Library/Frameworks/Python.framework/Versions/3.13/lib/python3.13/multiprocessing/connection.py\", line 395, in _recv\n",
            "    chunk = read(handle, remaining)\n",
            "KeyboardInterrupt\n",
            "  File \"/Library/Frameworks/Python.framework/Versions/3.13/lib/python3.13/multiprocessing/process.py\", line 313, in _bootstrap\n",
            "    self.run()\n",
            "    ~~~~~~~~^^\n",
            "  File \"/Library/Frameworks/Python.framework/Versions/3.13/lib/python3.13/multiprocessing/process.py\", line 108, in run\n",
            "    self._target(*self._args, **self._kwargs)\n",
            "    ~~~~~~~~~~~~^^^^^^^^^^^^^^^^^^^^^^^^^^^^^\n",
            "  File \"/Library/Frameworks/Python.framework/Versions/3.13/lib/python3.13/multiprocessing/pool.py\", line 114, in worker\n",
            "    task = get()\n",
            "  File \"/Library/Frameworks/Python.framework/Versions/3.13/lib/python3.13/multiprocessing/queues.py\", line 384, in get\n",
            "    with self._rlock:\n",
            "         ^^^^^^^^^^^\n",
            "  File \"/Library/Frameworks/Python.framework/Versions/3.13/lib/python3.13/multiprocessing/synchronize.py\", line 95, in __enter__\n",
            "    return self._semlock.__enter__()\n",
            "           ~~~~~~~~~~~~~~~~~~~~~~~^^\n",
            "KeyboardInterrupt\n"
          ]
        },
        {
          "ename": "KeyboardInterrupt",
          "evalue": "",
          "output_type": "error",
          "traceback": [
            "\u001b[31m---------------------------------------------------------------------------\u001b[39m",
            "\u001b[31mKeyboardInterrupt\u001b[39m                         Traceback (most recent call last)",
            "\u001b[36mCell\u001b[39m\u001b[36m \u001b[39m\u001b[32mIn[11]\u001b[39m\u001b[32m, line 16\u001b[39m\n\u001b[32m     14\u001b[39m toolbox.register(\u001b[33m\"\u001b[39m\u001b[33mmap\u001b[39m\u001b[33m\"\u001b[39m, pool.map)\n\u001b[32m     15\u001b[39m \u001b[38;5;66;03m# Ejecutar el algoritmo genético\u001b[39;00m\n\u001b[32m---> \u001b[39m\u001b[32m16\u001b[39m resultados, logbook = \u001b[43malgorithms\u001b[49m\u001b[43m.\u001b[49m\u001b[43meaSimple\u001b[49m\u001b[43m(\u001b[49m\u001b[43mpop\u001b[49m\u001b[43m,\u001b[49m\u001b[43m \u001b[49m\u001b[43mtoolbox\u001b[49m\u001b[43m,\u001b[49m\u001b[43m \u001b[49m\u001b[43mcxpb\u001b[49m\u001b[43m=\u001b[49m\u001b[32;43m0.5\u001b[39;49m\u001b[43m,\u001b[49m\u001b[43m \u001b[49m\u001b[43mmutpb\u001b[49m\u001b[43m=\u001b[49m\u001b[32;43m0.2\u001b[39;49m\u001b[43m,\u001b[49m\u001b[43m \u001b[49m\u001b[43mngen\u001b[49m\u001b[43m=\u001b[49m\u001b[32;43m10\u001b[39;49m\u001b[43m,\u001b[49m\u001b[43mstats\u001b[49m\u001b[43m=\u001b[49m\u001b[43mstats\u001b[49m\u001b[43m,\u001b[49m\u001b[43m \u001b[49m\u001b[43mverbose\u001b[49m\u001b[43m=\u001b[49m\u001b[38;5;28;43;01mFalse\u001b[39;49;00m\u001b[43m)\u001b[49m\n\u001b[32m     17\u001b[39m pool.close()\n\u001b[32m     18\u001b[39m pool.join()\n",
            "\u001b[36mFile \u001b[39m\u001b[32m~/Documents/GitHub/taller_algoritmo_genetico/.venv/lib/python3.13/site-packages/deap/algorithms.py:150\u001b[39m, in \u001b[36meaSimple\u001b[39m\u001b[34m(population, toolbox, cxpb, mutpb, ngen, stats, halloffame, verbose)\u001b[39m\n\u001b[32m    148\u001b[39m \u001b[38;5;66;03m# Evaluate the individuals with an invalid fitness\u001b[39;00m\n\u001b[32m    149\u001b[39m invalid_ind = [ind \u001b[38;5;28;01mfor\u001b[39;00m ind \u001b[38;5;129;01min\u001b[39;00m population \u001b[38;5;28;01mif\u001b[39;00m \u001b[38;5;129;01mnot\u001b[39;00m ind.fitness.valid]\n\u001b[32m--> \u001b[39m\u001b[32m150\u001b[39m fitnesses = \u001b[43mtoolbox\u001b[49m\u001b[43m.\u001b[49m\u001b[43mmap\u001b[49m\u001b[43m(\u001b[49m\u001b[43mtoolbox\u001b[49m\u001b[43m.\u001b[49m\u001b[43mevaluate\u001b[49m\u001b[43m,\u001b[49m\u001b[43m \u001b[49m\u001b[43minvalid_ind\u001b[49m\u001b[43m)\u001b[49m\n\u001b[32m    151\u001b[39m \u001b[38;5;28;01mfor\u001b[39;00m ind, fit \u001b[38;5;129;01min\u001b[39;00m \u001b[38;5;28mzip\u001b[39m(invalid_ind, fitnesses):\n\u001b[32m    152\u001b[39m     ind.fitness.values = fit\n",
            "\u001b[36mFile \u001b[39m\u001b[32m/Library/Frameworks/Python.framework/Versions/3.13/lib/python3.13/multiprocessing/pool.py:367\u001b[39m, in \u001b[36mPool.map\u001b[39m\u001b[34m(self, func, iterable, chunksize)\u001b[39m\n\u001b[32m    362\u001b[39m \u001b[38;5;28;01mdef\u001b[39;00m\u001b[38;5;250m \u001b[39m\u001b[34mmap\u001b[39m(\u001b[38;5;28mself\u001b[39m, func, iterable, chunksize=\u001b[38;5;28;01mNone\u001b[39;00m):\n\u001b[32m    363\u001b[39m \u001b[38;5;250m    \u001b[39m\u001b[33;03m'''\u001b[39;00m\n\u001b[32m    364\u001b[39m \u001b[33;03m    Apply `func` to each element in `iterable`, collecting the results\u001b[39;00m\n\u001b[32m    365\u001b[39m \u001b[33;03m    in a list that is returned.\u001b[39;00m\n\u001b[32m    366\u001b[39m \u001b[33;03m    '''\u001b[39;00m\n\u001b[32m--> \u001b[39m\u001b[32m367\u001b[39m     \u001b[38;5;28;01mreturn\u001b[39;00m \u001b[38;5;28;43mself\u001b[39;49m\u001b[43m.\u001b[49m\u001b[43m_map_async\u001b[49m\u001b[43m(\u001b[49m\u001b[43mfunc\u001b[49m\u001b[43m,\u001b[49m\u001b[43m \u001b[49m\u001b[43miterable\u001b[49m\u001b[43m,\u001b[49m\u001b[43m \u001b[49m\u001b[43mmapstar\u001b[49m\u001b[43m,\u001b[49m\u001b[43m \u001b[49m\u001b[43mchunksize\u001b[49m\u001b[43m)\u001b[49m\u001b[43m.\u001b[49m\u001b[43mget\u001b[49m\u001b[43m(\u001b[49m\u001b[43m)\u001b[49m\n",
            "\u001b[36mFile \u001b[39m\u001b[32m/Library/Frameworks/Python.framework/Versions/3.13/lib/python3.13/multiprocessing/pool.py:768\u001b[39m, in \u001b[36mApplyResult.get\u001b[39m\u001b[34m(self, timeout)\u001b[39m\n\u001b[32m    767\u001b[39m \u001b[38;5;28;01mdef\u001b[39;00m\u001b[38;5;250m \u001b[39m\u001b[34mget\u001b[39m(\u001b[38;5;28mself\u001b[39m, timeout=\u001b[38;5;28;01mNone\u001b[39;00m):\n\u001b[32m--> \u001b[39m\u001b[32m768\u001b[39m     \u001b[38;5;28;43mself\u001b[39;49m\u001b[43m.\u001b[49m\u001b[43mwait\u001b[49m\u001b[43m(\u001b[49m\u001b[43mtimeout\u001b[49m\u001b[43m)\u001b[49m\n\u001b[32m    769\u001b[39m     \u001b[38;5;28;01mif\u001b[39;00m \u001b[38;5;129;01mnot\u001b[39;00m \u001b[38;5;28mself\u001b[39m.ready():\n\u001b[32m    770\u001b[39m         \u001b[38;5;28;01mraise\u001b[39;00m \u001b[38;5;167;01mTimeoutError\u001b[39;00m\n",
            "\u001b[36mFile \u001b[39m\u001b[32m/Library/Frameworks/Python.framework/Versions/3.13/lib/python3.13/multiprocessing/pool.py:765\u001b[39m, in \u001b[36mApplyResult.wait\u001b[39m\u001b[34m(self, timeout)\u001b[39m\n\u001b[32m    764\u001b[39m \u001b[38;5;28;01mdef\u001b[39;00m\u001b[38;5;250m \u001b[39m\u001b[34mwait\u001b[39m(\u001b[38;5;28mself\u001b[39m, timeout=\u001b[38;5;28;01mNone\u001b[39;00m):\n\u001b[32m--> \u001b[39m\u001b[32m765\u001b[39m     \u001b[38;5;28;43mself\u001b[39;49m\u001b[43m.\u001b[49m\u001b[43m_event\u001b[49m\u001b[43m.\u001b[49m\u001b[43mwait\u001b[49m\u001b[43m(\u001b[49m\u001b[43mtimeout\u001b[49m\u001b[43m)\u001b[49m\n",
            "\u001b[36mFile \u001b[39m\u001b[32m/Library/Frameworks/Python.framework/Versions/3.13/lib/python3.13/threading.py:659\u001b[39m, in \u001b[36mEvent.wait\u001b[39m\u001b[34m(self, timeout)\u001b[39m\n\u001b[32m    657\u001b[39m signaled = \u001b[38;5;28mself\u001b[39m._flag\n\u001b[32m    658\u001b[39m \u001b[38;5;28;01mif\u001b[39;00m \u001b[38;5;129;01mnot\u001b[39;00m signaled:\n\u001b[32m--> \u001b[39m\u001b[32m659\u001b[39m     signaled = \u001b[38;5;28;43mself\u001b[39;49m\u001b[43m.\u001b[49m\u001b[43m_cond\u001b[49m\u001b[43m.\u001b[49m\u001b[43mwait\u001b[49m\u001b[43m(\u001b[49m\u001b[43mtimeout\u001b[49m\u001b[43m)\u001b[49m\n\u001b[32m    660\u001b[39m \u001b[38;5;28;01mreturn\u001b[39;00m signaled\n",
            "\u001b[36mFile \u001b[39m\u001b[32m/Library/Frameworks/Python.framework/Versions/3.13/lib/python3.13/threading.py:359\u001b[39m, in \u001b[36mCondition.wait\u001b[39m\u001b[34m(self, timeout)\u001b[39m\n\u001b[32m    357\u001b[39m \u001b[38;5;28;01mtry\u001b[39;00m:    \u001b[38;5;66;03m# restore state no matter what (e.g., KeyboardInterrupt)\u001b[39;00m\n\u001b[32m    358\u001b[39m     \u001b[38;5;28;01mif\u001b[39;00m timeout \u001b[38;5;129;01mis\u001b[39;00m \u001b[38;5;28;01mNone\u001b[39;00m:\n\u001b[32m--> \u001b[39m\u001b[32m359\u001b[39m         \u001b[43mwaiter\u001b[49m\u001b[43m.\u001b[49m\u001b[43macquire\u001b[49m\u001b[43m(\u001b[49m\u001b[43m)\u001b[49m\n\u001b[32m    360\u001b[39m         gotit = \u001b[38;5;28;01mTrue\u001b[39;00m\n\u001b[32m    361\u001b[39m     \u001b[38;5;28;01melse\u001b[39;00m:\n",
            "\u001b[31mKeyboardInterrupt\u001b[39m: "
          ]
        }
      ],
      "source": [
        "from deap import tools\n",
        "import multiprocessing\n",
        "# Variables para el registro de la evolución\n",
        "stats = tools.Statistics(key=lambda ind: ind.fitness.values)\n",
        "stats.register(\"min\", np.min)\n",
        "stats.register(\"avg\", np.mean)\n",
        "\n",
        "logbook = tools.Logbook()\n",
        "\n",
        "# Crear la población inicial\n",
        "pop = toolbox.population(n=10)  # 100 individuos\n",
        "\n",
        "pool = multiprocessing.Pool()\n",
        "toolbox.register(\"map\", pool.map)\n",
        "# Ejecutar el algoritmo genético\n",
        "resultados, logbook = algorithms.eaSimple(pop, toolbox, cxpb=0.5, mutpb=0.2, ngen=10,stats=stats, verbose=False)\n",
        "pool.close()\n",
        "pool.join()\n",
        "# Encontrar el mejor individuo\n",
        "mejor_individuo = tools.selBest(pop, 1)#[0]\n",
        "mostrar_ruta_pasos(mejor_individuo, laberinto=laberinto, inicio=inicio, salida=salida, grid=True)"
      ]
    },
    {
      "cell_type": "code",
      "execution_count": null,
      "metadata": {
        "id": "4tHbnP8TPaag"
      },
      "outputs": [],
      "source": [
        "# Crear un laberinto de 10x10\n",
        "\n",
        "laberinto = np.zeros((20, 20))\n",
        "\n",
        "inicio = (0, 0)\n",
        "\n",
        "salida = (0, 19)\n",
        "\n",
        "\n",
        "\n",
        "for i in range(1, 19, 4):\n",
        "\n",
        "  laberinto[0:19, i] = 1\n",
        "\n",
        "for i in range(3, 20, 4):\n",
        "\n",
        "  laberinto[1:20, i] = 1"
      ]
    },
    {
      "cell_type": "code",
      "execution_count": null,
      "metadata": {
        "id": "soeQcT8Wut2i"
      },
      "outputs": [],
      "source": [
        "mostrar_laberinto()"
      ]
    },
    {
      "cell_type": "code",
      "execution_count": null,
      "metadata": {
        "id": "P8er4iP0vSXI"
      },
      "outputs": [],
      "source": []
    }
  ],
  "metadata": {
    "colab": {
      "private_outputs": true,
      "provenance": []
    },
    "kernelspec": {
      "display_name": ".venv",
      "language": "python",
      "name": "python3"
    },
    "language_info": {
      "codemirror_mode": {
        "name": "ipython",
        "version": 3
      },
      "file_extension": ".py",
      "mimetype": "text/x-python",
      "name": "python",
      "nbconvert_exporter": "python",
      "pygments_lexer": "ipython3",
      "version": "3.13.2"
    }
  },
  "nbformat": 4,
  "nbformat_minor": 0
}
