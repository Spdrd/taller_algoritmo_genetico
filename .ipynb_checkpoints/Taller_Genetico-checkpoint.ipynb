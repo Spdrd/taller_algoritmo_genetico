{
 "cells": [
  {
   "cell_type": "markdown",
   "metadata": {},
   "source": [
    "# **Pontificia Universidad Javeriana**\n",
    "# **Taller de Algoritmos genéticos**\n",
    "**Hecho por:**\n",
    "\n",
    "Juan Diego Reyes\n",
    "\n",
    "Mariana Díaz\n",
    "\n",
    "Isaac Janica\n",
    "\n",
    "\n",
    "<img src=\"https://i.ytimg.com/vi/qiKW1qX97qA/maxresdefault.jpg\"/>\n",
    "\n",
    "\n",
    "\n",
    "### **Reporte: Entrenamiento de un algoritmo genético para solución de un laberinto**\n",
    "\n",
    "#### **Introducción**\n",
    "\n",
    "Los **algoritmos genéticos** en *machine learning* son técnicas de optimización inspiradas en la evolución biológica. Se basan en los principios de **selección natural, cruce y mutación** para encontrar soluciones óptimas o cercanas al óptimo (optimales) en problemas complejos. Cada posible solución se representa como un “individuo” dentro de una “población”, y su calidad se mide mediante una función de evaluación o *fitness*. A lo largo de varias generaciones, las soluciones más adecuadas se combinan y modifican para generar nuevas poblaciones con mejores resultados. Estos algoritmos se usan especialmente cuando el espacio de búsqueda es grande o no se conoce bien la estructura del problema, como en la optimización de hiperparámetros o el diseño de redes neuronales.\n",
    "\n",
    "---\n",
    "\n",
    "#### **Variables**\n",
    "\n",
    "Para el entrenamiento del algoritmos se va a utilizar el siguiente laberinto:\n",
    "\n",
    "<img src=\"maze.png\"/>\n",
    "\n",
    "El problema a resolver cuenta con 3 componentes:\n",
    "1. Una entrada, dónde comienza el punto de partida del algoritmo.\n",
    "2. Un laberinto constituido por por los caminos blancos y las paredes negras.\n",
    "3. Un salida, el punto final en dónde el algoritmo termina la ejecución.\n",
    "\n"
   ]
  },
  {
   "cell_type": "markdown",
   "metadata": {},
   "source": [
    "# Instalación e Importe de librerías"
   ]
  },
  {
   "cell_type": "code",
   "execution_count": 2,
   "metadata": {
    "id": "sJnCqMQd4ny8"
   },
   "outputs": [
    {
     "name": "stdout",
     "output_type": "stream",
     "text": [
      "Requirement already satisfied: deap in /home/isaac/myenv/lib/python3.12/site-packages (1.4.3)\n",
      "Requirement already satisfied: numpy in /home/isaac/myenv/lib/python3.12/site-packages (from deap) (2.0.2)\n"
     ]
    }
   ],
   "source": [
    "!pip install deap"
   ]
  },
  {
   "cell_type": "code",
   "execution_count": 1,
   "metadata": {
    "id": "f4r1UMtN5A8p"
   },
   "outputs": [],
   "source": [
    "import matplotlib.pyplot as plt\n",
    "import time\n",
    "import numpy as np\n",
    "from IPython import display\n",
    "import random\n",
    "from deap import base, creator, tools, algorithms"
   ]
  },
  {
   "cell_type": "markdown",
   "metadata": {},
   "source": [
    "# Var Globales\n",
    "\n",
    "Aqui se definen las variables como el laberinto y los movimientos que puede tomar el modelo:\n",
    "- (0,1) -> moverse arriba\n",
    "- (0,-1) -> moverse abajo\n",
    "- (-1,0) -> moverse a la izquierda\n",
    "- (1,0) -> moverse a la derecha"
   ]
  },
  {
   "cell_type": "code",
   "execution_count": 2,
   "metadata": {},
   "outputs": [],
   "source": [
    "# Var Globales\n",
    "\n",
    "# Movimientos posibles\n",
    "#              (arriba, abajo, izquierda, derecha)\n",
    "MOVIMIENTOS = [(0, 1), (0, -1), (-1, 0), (1, 0)]\n",
    "\n",
    "\n",
    "# Crear un laberinto de 10x10\n",
    "\n",
    "laberinto = np.zeros((20, 20))\n",
    "\n",
    "inicio = (0, 0)\n",
    "salida = (0, 19)\n",
    "for i in range(1, 19, 4):\n",
    "\n",
    "  laberinto[0:19, i] = 1\n",
    "\n",
    "for i in range(3, 20, 4):\n",
    "\n",
    "  laberinto[1:20, i] = 1\n",
    "\n"
   ]
  },
  {
   "cell_type": "markdown",
   "metadata": {},
   "source": [
    "# Fun generales\n",
    "Aqui se encuentran las funciones como:\n",
    "- mostrar_laberinto()\n",
    "- mover(posición, movimiento)\n"
   ]
  },
  {
   "cell_type": "code",
   "execution_count": 3,
   "metadata": {
    "id": "K_Upe3OX40hI"
   },
   "outputs": [],
   "source": [
    "def mostrar_laberinto():\n",
    "    ax = plt.gca()\n",
    "    ax.set_xticks(np.arange(0, 10, 1))\n",
    "    ax.set_yticks(np.arange(0, 10, 1))\n",
    "    #ax.set_xticklabels(np.arange(0, 10, 1));\n",
    "    #ax.set_yticklabels(np.arange(0, 10, 1));\n",
    "    ax.imshow(laberinto.T, cmap='binary')\n",
    "    plt.gca().invert_yaxis()\n",
    "    plt.plot(inicio[0], inicio[1], \"ro\", label=\"Inicio\")\n",
    "    plt.plot(salida[0], salida[1], \"go\", label=\"Salida\")\n",
    "    plt.grid(True, which='both')\n",
    "    plt.legend()\n",
    "    plt.show()\n",
    "\n",
    "\n",
    "def mover(pos, movimiento):\n",
    "    # Realiza el movimiento (x, y)\n",
    "    nueva_pos = (pos[0] + movimiento[0], pos[1] + movimiento[1])\n",
    "\n",
    "    # Verificar si está dentro de los límites y no es una pared\n",
    "    if 0 <= nueva_pos[0] < laberinto.shape[0] and 0 <= nueva_pos[1] < laberinto.shape[1]:\n",
    "        if laberinto[nueva_pos] == 0:  # No es una pared\n",
    "            return nueva_pos\n",
    "    return pos  # Si no es un movimiento válido, quedarse en el mismo lugar\n",
    "\n",
    "def mostrar_ruta_pasos(individuo, s=0.01,laberinto=None, inicio=None, salida=None, grid=False):\n",
    "    generacion = individuo if isinstance(individuo[0], list) else [individuo]\n",
    "\n",
    "    NOMBRE_MOVIMIENTOS = ['arriba', 'abajo', 'izquierda', 'derecha']\n",
    "    #pos = inicio\n",
    "    #camino = [pos]\n",
    "    #nombre_camino = ['nada']\n",
    "    #numero_movimiento = ['-']\n",
    "\n",
    "    #limpia el anterior plot\n",
    "    plt.clf()\n",
    "\n",
    "    fig, ax = plt.subplots()\n",
    "    #ax.invert_yaxis()\n",
    "    for ind in generacion:\n",
    "        pos = inicio\n",
    "        camino = [pos]\n",
    "        for i, movimiento in enumerate(ind):\n",
    "            pos = mover(pos, MOVIMIENTOS[movimiento])\n",
    "\n",
    "            camino.append(pos)\n",
    "            #nombre_camino.append(NOMBRE_MOVIMIENTOS[movimiento])\n",
    "            #numero_movimiento.append(movimiento)\n",
    "\n",
    "            # Convert to NumPy array for plotting\n",
    "            camino_np = np.array(camino)\n",
    "\n",
    "\n",
    "            # Plot the path up to the current step\n",
    "            ax.clear()\n",
    "            if grid:\n",
    "              ax.set_xticks(np.arange(0, laberinto.shape[1], 1))\n",
    "              ax.set_yticks(np.arange(0, laberinto.shape[1], 1))\n",
    "              #ax.set_xticklabels(np.arange(0, 10, 1));\n",
    "              #ax.set_yticklabels(np.arange(0, 10, 1));\n",
    "              ax.grid(grid, which='both')\n",
    "            ax.set_ylim(-1, laberinto.shape[1])\n",
    "            ax.set_xlim(-1, laberinto.shape[0])\n",
    "            ax.imshow(laberinto.T, cmap='binary')\n",
    "            ax.plot(camino_np[:, 0], camino_np[:, 1], \"r-\")\n",
    "            ax.plot(-1, -1, \"ro\", label=f\"{i+1}\")\n",
    "            ax.plot(inicio[0], inicio[1], \"bo\", label=\"Inicio\")  # Start point\n",
    "            ax.plot(salida[0], salida[1], \"go\", label=\"Salida\")   # End point\n",
    "            #ax.plot(pos_anterior[0], pos_anterior[1], \"bo\", label=f\"pos-ant {pos_anterior}\", alpha=0.6)   # End point\n",
    "            ax.plot(pos[0], pos[1], \"bx\", label=f\"pos {pos}\")   # End point\n",
    "            plt.xlabel(\"Eje X\")\n",
    "            plt.ylabel(\"Eje Y\")\n",
    "\n",
    "            ax.legend()\n",
    "\n",
    "            # Update the display\n",
    "\n",
    "            display.clear_output(wait=True)\n",
    "            display.display(fig)\n",
    "\n",
    "            time.sleep(s)\n",
    "    plt.close(fig)  # Close the figure to prevent further updates\n",
    "    #plt.show()  # Keep the final plot displayed\n",
    "\n",
    "def mostrar_ruta_terminada(individuo, laberinto=None, inicio=None, salida=None, grid=False):\n",
    "    pos = inicio\n",
    "    camino = [pos]\n",
    "    for movimiento in individuo:\n",
    "        pos = mover(pos, MOVIMIENTOS[movimiento])\n",
    "        camino.append(pos)\n",
    "\n",
    "    # Convert to NumPy array for plotting\n",
    "    camino_np = np.array(camino)\n",
    "\n",
    "    plt.clf()\n",
    "    fig, ax = plt.subplots()\n",
    "    if grid:\n",
    "      ax.set_xticks(np.arange(0, laberinto.shape[1], 1))\n",
    "      ax.set_yticks(np.arange(0, laberinto.shape[1], 1))\n",
    "      #ax.set_xticklabels(np.arange(0, 10, 1));\n",
    "      #ax.set_yticklabels(np.arange(0, 10, 1));\n",
    "      ax.grid(grid, which='both')\n",
    "    ax.set_ylim(-1, laberinto.shape[1])\n",
    "    ax.set_xlim(-1, laberinto.shape[0])\n",
    "    ax.imshow(laberinto.T, cmap='binary')\n",
    "    ax.plot(camino_np[:, 0], camino_np[:, 1], \"r-\")\n",
    "    ax.plot(inicio[0], inicio[1], \"bo\", label=\"Inicio\")  # Start point\n",
    "    ax.plot(salida[0], salida[1], \"go\", label=\"Salida\")   # End point\n",
    "    ax.plot(pos[0], pos[1], \"bx\", label=f\"pos {pos}\")   # End point\n",
    "    plt.xlabel(\"Eje X\")\n",
    "    plt.ylabel(\"Eje Y\")\n",
    "\n",
    "    ax.legend()\n",
    "    plt.show()\n",
    "    plt.close(fig)  # Close the figure to prevent further updates\n"
   ]
  },
  {
   "cell_type": "markdown",
   "metadata": {},
   "source": [
    "# Correr"
   ]
  },
  {
   "cell_type": "markdown",
   "metadata": {},
   "source": [
    "## Función Aptitud (Fitness)\n",
    "Esta función se encarga de seleccionar las soluciones que son más aptas (mayor fitness) para el problema\n",
    "\n",
    "Para el entrenamiento del modelo se tiene de manera teórica el siguiente comportamiento al modificar los hiperparámetros de las funciones:\n",
    "1. **Tamaño de población:** define cuántos individuos (soluciones candidatas) existen en cada generación. Las poblaciones pequeñas tienen la ventaje de evolucionan rápido y tienen un menor consumo de CPU (esto es especialmente importante si no se cuenta con un procesador que tenga una baja capacidad para paralelizar los procesos), en cambio las población gandes permiten una mayor diversidad de soluciones, hay un mejor conocimiento del espacio de búsqueda y el algoritmo es menos propenso a estancamientos. Por otro lado, las desventajas de una población pequeñas es que tienen menos diversidad y tienen un mayor riesgo de estancamiento, ahora, las desventajas de las poblaciones grandes son que cada generación nueva se vuelve marginalmente más costosa de evaluar y requiere una mayor cantidad de tiempo (o capacidad de cómputo) para entrenar.\n",
    "2. **Cantidad de generaciones**: una generación representa un ciclo en dónde se hacen los siguientes pasos: selección, cruce, mutación y evaluación. El tener pocas generaciones permite una evolución rápida y es ideal cuando el espacio de búsqueda es pequeño, sin embargo puede detenerse antes de encontrar las soluciones óptimas y quedarse con aquellas que son optimales (se acercan más no son la óptima). En este sentido, si se tienen muchas generaciones se pueden resolver problemas más complejos dónde se requiere una mayor exploración a largo plazo, es decir, que permite un mayor refinamiento de la solución a cambio de un mayor tiempo de entrenamiento.\n",
    "3. **Cruce:** se encarga de mezclar las partes de dos individuos para generar nuevos. El propósito es recombinar caracterísitcas exitosas para la siguiente generación. Una tasa de cruce alta explora más el espacio de soluciones pero puede hacer que el modelo pierda/ignore las buenas soluciones por el alto de valor de este parámetro. Un tasa baja de esta variable se traduce en una mayor estabilidad del modelo por lo que hay menos recombinación y esto resultar en una menor diversidad que puede llevar a un posible estancamiento.\n",
    "4. **Mutacioń:** A diferencia del cruce, el cuál mezcla caracterísiticas existentes en los individuos, las mutaciones son cambios aleatorios que tienen como función mantner la diversidad y evitar que la población sea la misma/igual en todos sus individuos. Un alto valor para esta variable aumenta la exploración al tener un mayor nivel de aleatoriedad, pero esto puede desestabilizar el aprendizaje si el valor es excesiva, por otro lado, una tasa muy baja mantiene la estabilidad, es decir, hay una mejor exploración de las soluciones buenas pero con el riesgo de converger/estancarse prematuramente."
   ]
  },
  {
   "cell_type": "code",
   "execution_count": 4,
   "metadata": {},
   "outputs": [],
   "source": [
    "def evaluar_individuo(individual):\n",
    "    pos = inicio\n",
    "    esquina = inicio\n",
    "    recompensa_salida = 1\n",
    "\n",
    "    for i in range(len(individual)):\n",
    "        pos_anterior = pos\n",
    "        pos = mover(pos, MOVIMIENTOS[individual[i]])\n",
    "\n",
    "        if pos[1] > pos_anterior[1]:\n",
    "            esquina = pos\n",
    "\n",
    "    \n",
    "    penalizacion_esquina = 500 - abs(esquina[0] - pos[0]) \n",
    "\n",
    "    # Recompensar avance en Y (cuanto más cerca esté de la salida en Y, mejor)\n",
    "    recompensa_y = (salida[1] - pos[1]) * 1000\n",
    "\n",
    "    # Recompensar llegar a la salida\n",
    "    if pos == salida:\n",
    "        recompensa_salida = 0\n",
    "    else:\n",
    "        recompensa_salida = 1\n",
    "\n",
    "\n",
    "\n",
    "    # Fitness total (menor es mejor)\n",
    "    fitness = (recompensa_y + penalizacion_esquina) * recompensa_salida\n",
    "\n",
    "    return (fitness,)\n",
    "\n",
    "\n",
    "# Crear la estructura del algoritmo genético\n",
    "creator.create(\"FitnessMin\", base.Fitness, weights=(-1.0,))  # Minimizar la distancia\n",
    "creator.create(\"Individual\", list, fitness=creator.FitnessMin)\n",
    "\n",
    "toolbox = base.Toolbox()\n",
    "toolbox.register(\"attr_move\", random.randint, 0, len(MOVIMIENTOS)-1)\n",
    "toolbox.register(\"individual\", tools.initRepeat, creator.Individual, toolbox.attr_move, n=2000) # 1000 movimientos\n",
    "toolbox.register(\"population\", tools.initRepeat, list, toolbox.individual)\n",
    "\n",
    "toolbox.register(\"mate\", tools.cxTwoPoint)\n",
    "toolbox.register(\"mutate\", tools.mutShuffleIndexes, indpb=0.1)\n",
    "toolbox.register(\"select\", tools.selTournament, tournsize=3)\n",
    "toolbox.register(\"evaluate\", evaluar_individuo)\n"
   ]
  },
  {
   "cell_type": "markdown",
   "metadata": {},
   "source": [
    "## Ejecucion"
   ]
  },
  {
   "cell_type": "code",
   "execution_count": null,
   "metadata": {
    "id": "Gh6u7a-U6R3n"
   },
   "outputs": [],
   "source": [
    "# Crear la población inicial\n",
    "pop = toolbox.population(n=1000)  # 100 individuos\n",
    "\n",
    "# Ejecutar el algoritmo genético\n",
    "resultados, log = algorithms.eaSimple(pop, toolbox, cxpb=0.4, mutpb=0.1, ngen=25, verbose=False)"
   ]
  },
  {
   "cell_type": "code",
   "execution_count": null,
   "metadata": {},
   "outputs": [],
   "source": [
    "mostrar_ruta_terminada(resultados[0], laberinto=laberinto, inicio=inicio, salida=salida, grid=True)"
   ]
  },
  {
   "cell_type": "code",
   "execution_count": 14,
   "metadata": {
    "id": "_vkfoCGF5s-z"
   },
   "outputs": [
    {
     "data": {
      "image/png": "[encoded data removed]",
      "text/plain": [
       "<Figure size 640x480 with 1 Axes>"
      ]
     },
     "metadata": {},
     "output_type": "display_data"
    },
    {
     "data": {
      "text/plain": [
       "<Figure size 640x480 with 0 Axes>"
      ]
     },
     "metadata": {},
     "output_type": "display_data"
    }
   ],
   "source": [
    "mostrar_ruta_pasos(resultados[0], laberinto=laberinto, inicio=inicio, salida=salida, grid=True, s=0)"
   ]
  },
  {
   "cell_type": "markdown",
   "metadata": {
    "jp-MarkdownHeadingCollapsed": true
   },
   "source": [
    "# Ver proceso"
   ]
  },
  {
   "cell_type": "markdown",
   "metadata": {},
   "source": [
    "# Ejecucion 2"
   ]
  },
  {
   "cell_type": "code",
   "execution_count": null,
   "metadata": {
    "id": "5pzar7v_5zUV"
   },
   "outputs": [],
   "source": [
    "from deap import tools\n",
    "# Variables para el registro de la evolución\n",
    "stats = tools.Statistics(key=lambda ind: ind.fitness.values)\n",
    "stats.register(\"min\", np.min)\n",
    "stats.register(\"avg\", np.mean)\n",
    "\n",
    "logbook = tools.Logbook()\n",
    "\n",
    "# Crear la población inicial\n",
    "pop = toolbox.population(n=100)  # 100 individuos\n",
    "\n",
    "# Ejecutar el algoritmo genético\n",
    "resultados, logbook = algorithms.eaSimple(pop, toolbox, cxpb=0.5, mutpb=0.5, ngen=50,stats=stats, verbose=False)\n",
    "\n",
    "# Encontrar el mejor individuo\n",
    "mejor_individuo = tools.selBest(pop, 1)#[0]\n",
    "mostrar_ruta_terminada(mejor_individuo[0], laberinto=laberinto, inicio=inicio, salida=salida, grid=True)"
   ]
  },
  {
   "cell_type": "code",
   "execution_count": null,
   "metadata": {
    "id": "d8ScTvRx69k8"
   },
   "outputs": [],
   "source": [
    "# Extraer las estadísticas de cada generación\n",
    "generaciones = logbook.select(\"gen\")\n",
    "minimos = logbook.select(\"min\")\n",
    "promedios = logbook.select(\"avg\")\n",
    "\n",
    "# Graficar la evolución\n",
    "import matplotlib.pyplot as plt\n",
    "\n",
    "plt.plot(generaciones, minimos, label=\"Mejor aptitud\")\n",
    "plt.plot(generaciones, promedios, label=\"Aptitud promedio\", linestyle=\"--\")\n",
    "plt.xlabel(\"Generaciones\")\n",
    "plt.ylabel(\"Aptitud\")\n",
    "plt.title(\"Evolución del Algoritmo Genético\")\n",
    "plt.legend()\n",
    "plt.show()"
   ]
  },
  {
   "cell_type": "code",
   "execution_count": null,
   "metadata": {},
   "outputs": [],
   "source": []
  },
  {
   "cell_type": "code",
   "execution_count": null,
   "metadata": {},
   "outputs": [],
   "source": []
  },
  {
   "attachments": {
    "28610121-eeca-4cd2-b342-2f1895781a80.png": {
     "image/png": "[encoded data removed]"
    }
   },
   "cell_type": "markdown",
   "metadata": {},
   "source": [
    "# **Conclusiones**\n",
    "\n",
    "Es falso pensar que es más probable llegar a la solución si se aumenta la población. Esto se evidenció en el caso en dónde se aumentó el número a 5000, 40000 individuos más que el utilizado en el código actual, y no se logró un resultado satisfactorio sino que este se quedó estancado varios niveles debajo de la salida:\n",
    "\n",
    "<img src=\"5000.png\"/>\n",
    "\n",
    "Aumentando la mutación (de 0.1 a 0.3) se ve como la teoría si se cumple dado que hubo un estancamiento prematuro:\n",
    "\n",
    "<img src=\"03.png\"/>\n",
    "\n",
    "Por el otro lado reducir la mutación a la mitad (de 0.1 a 0.05) no se ve afectado que el algoritmo llegue al objetivo:\n",
    "\n",
    "<img src=\"001.png\"/>\n",
    "\n",
    "Al reducir las generaciones a la mitad muestra que con este número no se llega al objetivo:\n",
    "\n",
    "\n",
    "<img src=\"13.png\"/>\n",
    "\n",
    "En cambio al aumentar las generaciones se logra trazar la ruta que llega al objetivo:\n",
    "\n",
    "<img src=\"50.png\"/>\n",
    "\n",
    "Al aumentar el nivel de cruce de 0.5 a 0.7 se puede evidencia como no se llega al camino que logra el objetivo:\n",
    "\n",
    "<img src=\"07.png\"/>\n",
    "\n",
    "Sin embargo, el reducir de 0.5 a 0.3 tampoco genera que haya una mejoría, sin emgargo, si se puede evidenciar como el reducir el valor de esta variable no aleja tanto al algoritmo como lo es un aumento:\n",
    "\n",
    "![image.png](attachment:28610121-eeca-4cd2-b342-2f1895781a80.png)"
   ]
  },
  {
   "cell_type": "code",
   "execution_count": null,
   "metadata": {},
   "outputs": [],
   "source": []
  },
  {
   "cell_type": "code",
   "execution_count": null,
   "metadata": {},
   "outputs": [],
   "source": []
  },
  {
   "cell_type": "code",
   "execution_count": null,
   "metadata": {},
   "outputs": [],
   "source": []
  },
  {
   "cell_type": "code",
   "execution_count": null,
   "metadata": {},
   "outputs": [],
   "source": []
  },
  {
   "cell_type": "code",
   "execution_count": null,
   "metadata": {},
   "outputs": [],
   "source": []
  },
  {
   "cell_type": "code",
   "execution_count": null,
   "metadata": {},
   "outputs": [],
   "source": []
  },
  {
   "cell_type": "code",
   "execution_count": null,
   "metadata": {},
   "outputs": [],
   "source": []
  },
  {
   "cell_type": "code",
   "execution_count": null,
   "metadata": {},
   "outputs": [],
   "source": []
  },
  {
   "cell_type": "code",
   "execution_count": null,
   "metadata": {},
   "outputs": [],
   "source": []
  },
  {
   "cell_type": "code",
   "execution_count": null,
   "metadata": {},
   "outputs": [],
   "source": []
  },
  {
   "cell_type": "code",
   "execution_count": null,
   "metadata": {},
   "outputs": [],
   "source": []
  },
  {
   "cell_type": "code",
   "execution_count": null,
   "metadata": {},
   "outputs": [],
   "source": []
  }
 ],
 "metadata": {
  "colab": {
   "private_outputs": true,
   "provenance": []
  },
  "kernelspec": {
   "display_name": "Python 3 (ipykernel)",
   "language": "python",
   "name": "python3"
  },
  "language_info": {
   "codemirror_mode": {
    "name": "ipython",
    "version": 3
   },
   "file_extension": ".py",
   "mimetype": "text/x-python",
   "name": "python",
   "nbconvert_exporter": "python",
   "pygments_lexer": "ipython3",
   "version": "3.12.3"
  }
 },
 "nbformat": 4,
 "nbformat_minor": 4
}
